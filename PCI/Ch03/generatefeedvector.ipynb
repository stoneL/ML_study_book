{
 "cells": [
  {
   "cell_type": "code",
   "execution_count": 1,
   "metadata": {
    "collapsed": true
   },
   "outputs": [],
   "source": [
    "import feedparser\n",
    "import re"
   ]
  },
  {
   "cell_type": "markdown",
   "metadata": {},
   "source": [
    "## 对订阅源中的单词计数"
   ]
  },
  {
   "cell_type": "code",
   "execution_count": 3,
   "metadata": {},
   "outputs": [],
   "source": [
    "# -*- coding: utf-8 -*- \n",
    "def getwordcounts(url):\n",
    "    # 解析订阅源\n",
    "    d = feedparser.parse(url)\n",
    "    wc = {}\n",
    "    # 循环遍历所有的文章条目\n",
    "    for e in d.entries:\n",
    "        if 'summary' in e: \n",
    "            summary = e.summary\n",
    "        else: \n",
    "            summary = e.description\n",
    "        \n",
    "        # 提取一个单词列表\n",
    "        words = getwords(e.title+' '+summary)\n",
    "        for word in words:\n",
    "            wc.setdefault(word, 0)            # 如果键不存在就设为默认值\n",
    "            wc[word] += 1\n",
    "        return d.feed.title, wc\n",
    "    \n",
    "    \n",
    "# 定义getwords函数\n",
    "def getwords(html):\n",
    "    # 去除所有的html标签\n",
    "    txt = re.compile(r'<[^>]+>').sub('', html)\n",
    "    \n",
    "    # 利用所有非字母字符拆分单词\n",
    "    words = re.compile(r'[^A-Z^a-z]+').split(txt)\n",
    "    \n",
    "    return [word.lower() for word in words if word != '']"
   ]
  },
  {
   "cell_type": "code",
   "execution_count": 5,
   "metadata": {},
   "outputs": [],
   "source": [
    "# -*- coding: utf-8 -*-\n",
    "# 主体代码\n",
    "# apcount = {}\n",
    "# wordcounts = {}\n",
    "# feedlist = [line for line in file('feedlist.txt')]  # 遍历每一行\n",
    "# for feedurl in feedlist:                            \n",
    "#     try:\n",
    "#         title, wc = getwordcounts(feedurl)          # 对单词进行计数\n",
    "#         wordcounts[title] = wc                      \n",
    "#         for word, count in wc.items():\n",
    "#             apcount.setdefault(word, 0)\n",
    "#             if count > 1:\n",
    "#                 apcount[word] += 1\n",
    "#     except:\n",
    "#         print 'Failed to parse feed %s' % feedurl"
   ]
  },
  {
   "cell_type": "markdown",
   "metadata": {},
   "source": [
    "## 分级聚类"
   ]
  },
  {
   "cell_type": "code",
   "execution_count": null,
   "metadata": {},
   "outputs": [],
   "source": [
    ""
   ]
  }
 ],
 "metadata": {
  "kernelspec": {
   "display_name": "Python 2",
   "language": "python",
   "name": "python2"
  },
  "language_info": {
   "codemirror_mode": {
    "name": "ipython",
    "version": 2.0
   },
   "file_extension": ".py",
   "mimetype": "text/x-python",
   "name": "python",
   "nbconvert_exporter": "python",
   "pygments_lexer": "ipython2",
   "version": "2.7.6"
  }
 },
 "nbformat": 4,
 "nbformat_minor": 0
}