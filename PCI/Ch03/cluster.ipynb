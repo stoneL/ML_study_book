{
 "cells": [
  {
   "cell_type": "code",
   "execution_count": 1,
   "metadata": {
    "collapsed": true
   },
   "outputs": [],
   "source": [
    "from PIL import Image,ImageDraw"
   ]
  },
  {
   "cell_type": "code",
   "execution_count": 13,
   "metadata": {},
   "outputs": [],
   "source": [
    "# -*- coding: utf-8 -*-\n",
    "def readfile(filename):\n",
    "    lines = [line for line in file(filename)]\n",
    "\n",
    "    # 第一行是列标题\n",
    "    colnames = lines[0].strip().split('\\t')[1:]\n",
    "    rownames = []\n",
    "    data = []\n",
    "    for line in lines[1:]:\n",
    "        p = line.strip().split('\\t')\n",
    "        # 每行的第一列是行名\n",
    "        rownames.append(p[0])\n",
    "        # 剩余的部分就是该行对应的数据\n",
    "        data.append([float(x) for x in p[1:]])\n",
    "    print rownames, colnames, data"
   ]
  },
  {
   "cell_type": "code",
   "execution_count": 14,
   "metadata": {},
   "outputs": [],
   "source": [
    "# -*- coding: utf-8 -*-\n",
    "# 计算皮尔森相关系数\n",
    "from math import sqrt\n",
    "\n",
    "\n",
    "def pearson(v1, v2):\n",
    "    sum1 = sum(v1)\n",
    "    sum2 = sum(v2)\n",
    "\n",
    "    sum1Sq = sum([pow(v, 2) for v in v1])\n",
    "    sum2Sq=sum([pow(v, 2) for v in v2])\n",
    "\n",
    "    pSum=sum([v1[i]*v2[i] for i in range(len(v1))])\n",
    "\n",
    "    # Calculate r (Pearson score)\n",
    "    num = pSum-(sum1*sum2/len(v1))\n",
    "    den = sqrt((sum1Sq-pow(sum1, 2)/len(v1))*(sum2Sq-pow(sum2, 2)/len(v1)))\n",
    "    if den == 0:\n",
    "        return 0\n",
    "\n",
    "    return 1.0-num/den"
   ]
  },
  {
   "cell_type": "code",
   "execution_count": 15,
   "metadata": {},
   "outputs": [],
   "source": [
    "class bicluster:\n",
    "    def __init__(self, vec, left=None, right=None, distance=0.0, id=None):\n",
    "        self.left = left\n",
    "        self.right = right\n",
    "        self.vec = vec\n",
    "        self.id = id\n",
    "        self.distance = distance"
   ]
  },
  {
   "cell_type": "code",
   "execution_count": 16,
   "metadata": {},
   "outputs": [],
   "source": [
    "# -*- coding: utf-8 -*-\n",
    "def hcluster(rows, distance=pearson):\n",
    "    distances = {}\n",
    "    currentclustid = -1\n",
    "\n",
    "    # 最开始聚类是数据集中的行\n",
    "    clust = [bicluster(rows[i], id=i) for i in range(len(rows))]\n",
    "\n",
    "    while len(clust) > 1:\n",
    "        lowestpair = (0, 1)\n",
    "        closest = distance(clust[0].vec, clust[1].vec)\n",
    "\n",
    "        # 遍历每一个配对，找出最小距离\n",
    "        for i in range(len(clust)):\n",
    "            for j in range(i+1, len(clust)):\n",
    "                # 用distances来缓存距离的计算值\n",
    "                if (clust[i].id, clust[j].id) not in distances:\n",
    "                    distances[(clust[i].id, clust[j].id)] = distance(clust[i].vec, clust[j].vec)\n",
    "\n",
    "                d = distances[(clust[i].id, clust[j].id)]\n",
    "\n",
    "                if d < closest:\n",
    "                    closest = d\n",
    "                    lowestpair = (i, j)\n",
    "\n",
    "        # 计算两个聚类的平均值\n",
    "        mergevec = [\n",
    "            (clust[lowestpair[0]].vec[i]+clust[lowestpair[1]].vec[i])/2.0\n",
    "            for i in range(len(clust[0].vec))]\n",
    "\n",
    "        # 建立新的聚类\n",
    "        newcluster = bicluster(mergevec, left=clust[lowestpair[0]], \n",
    "                               right=clust[lowestpair[1]],\n",
    "                               distance=closest, id=currentclustid)\n",
    "\n",
    "        # 不在原始集合中的聚类，其id为负数\n",
    "        currentclustid -= 1\n",
    "        del clust[lowestpair[1]]\n",
    "        del clust[lowestpair[0]]\n",
    "        clust.append(newcluster)\n",
    "\n",
    "    return clust[0]"
   ]
  },
  {
   "cell_type": "code",
   "execution_count": 17,
   "metadata": {},
   "outputs": [
    {
     "data": {
      "text/plain": [
       "u'F:\\\\IDEAproject\\\\Book_PCI'"
      ]
     },
     "execution_count": 17,
     "metadata": {},
     "output_type": "execute_result"
    }
   ],
   "source": [
    "pwd"
   ]
  },
  {
   "cell_type": "code",
   "execution_count": 18,
   "metadata": {},
   "outputs": [
    {
     "name": "stdout",
     "output_type": "stream",
     "text": [
      "F:\\IDEAproject\\Book_PCI\\Ch03\\chapter3\n"
     ]
    }
   ],
   "source": [
    "cd Ch03/chapter3"
   ]
  },
  {
   "cell_type": "code",
   "execution_count": 20,
   "metadata": {},
   "outputs": [],
   "source": [
    "import sys"
   ]
  },
  {
   "cell_type": "code",
   "execution_count": 21,
   "metadata": {},
   "outputs": [],
   "source": [
    "sys.path.append('F:/IDEAproject/Book_PCI_Ch03/chapter3')"
   ]
  },
  {
   "cell_type": "code",
   "execution_count": null,
   "metadata": {},
   "outputs": [],
   "source": [
    ""
   ]
  }
 ],
 "metadata": {
  "kernelspec": {
   "display_name": "Python 2",
   "language": "python",
   "name": "python2"
  },
  "language_info": {
   "codemirror_mode": {
    "name": "ipython",
    "version": 2.0
   },
   "file_extension": ".py",
   "mimetype": "text/x-python",
   "name": "python",
   "nbconvert_exporter": "python",
   "pygments_lexer": "ipython2",
   "version": "2.7.6"
  }
 },
 "nbformat": 4,
 "nbformat_minor": 0
}