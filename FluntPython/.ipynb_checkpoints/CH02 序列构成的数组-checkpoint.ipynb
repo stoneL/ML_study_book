{
 "cells": [
  {
   "cell_type": "markdown",
   "metadata": {
    "collapsed": true
   },
   "source": [
    "在创造 Python 以前，Guido 曾为 ABC 语言贡献过代码。ABC 语言是一个致力于为初学者设计编程环境的长达 10 年的研究项目，其中很多点\n",
    "子在现在看来都很有 Python 风格：序列的泛型操作、内置的元组和映射类型、用缩进来架构的源码、无需变量声明的强类型，等等。Python 对\n",
    "开发者如此友好，根源就在这里。\n",
    "<br>\n",
    "<br>\n",
    "Python 也从 ABC 那里继承了用统一的风格去处理序列数据这一特点。不管是哪种数据结构，字符串、列表、字节序列、数组、XML 元素，\n",
    "抑或是数据库查询结果，它们都共用一套丰富的操作：**迭代、切片、排序，还有拼接。**"
   ]
  },
  {
   "cell_type": "markdown",
   "metadata": {},
   "source": [
    "### 2.1 内置序列类型概览\n",
    "***容器序列***<br>\n",
    "　`list`、`tuple` 和 `collections.deque` 这些序列能存放不同类型的数据。<br>\n",
    "***扁平序列***<br>\n",
    "`str`、`bytes`、`bytearray`、`memoryview` 和 `array.array`，这类序列只能容纳一种类型。<br>\n",
    "***可变序列***<br>\n",
    "`list`、`bytearray`、`array.array`、`collections.deque` 和`memoryview`<br>\n",
    "***不可变序列***<br>\n",
    "`tuple`、`str` 和 `bytes`。<br>\n",
    "![](https://raw.githubusercontent.com/markup1/Photos/master/17-10/QQ%E6%88%AA%E5%9B%BE20171012231102.png)"
   ]
  },
  {
   "cell_type": "code",
   "execution_count": null,
   "metadata": {
    "collapsed": true
   },
   "outputs": [],
   "source": []
  }
 ],
 "metadata": {
  "kernelspec": {
   "display_name": "Python 2",
   "language": "python",
   "name": "python2"
  },
  "language_info": {
   "codemirror_mode": {
    "name": "ipython",
    "version": 2
   },
   "file_extension": ".py",
   "mimetype": "text/x-python",
   "name": "python",
   "nbconvert_exporter": "python",
   "pygments_lexer": "ipython2",
   "version": "2.7.13"
  }
 },
 "nbformat": 4,
 "nbformat_minor": 2
}
