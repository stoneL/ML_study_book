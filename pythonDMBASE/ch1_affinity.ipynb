{
 "cells": [
  {
   "cell_type": "code",
   "execution_count": 1,
   "metadata": {},
   "outputs": [],
   "source": [
    "import numpy as np\n"
   ]
  },
  {
   "cell_type": "code",
   "execution_count": 2,
   "metadata": {
    "collapsed": true
   },
   "outputs": [],
   "source": [
    "dataset_filename = \"affinity_dataset.txt\""
   ]
  },
  {
   "cell_type": "code",
   "execution_count": 3,
   "metadata": {
    "collapsed": true
   },
   "outputs": [],
   "source": [
    "X = np.loadtxt(dataset_filename)\n"
   ]
  },
  {
   "cell_type": "code",
   "execution_count": 5,
   "metadata": {},
   "outputs": [
    {
     "name": "stdout",
     "output_type": "stream",
     "text": [
      "This dataset has 100 samples and 5 features\n"
     ]
    }
   ],
   "source": [
    "n_samples, n_features = X.shape\n",
    "print(\"This dataset has {0} samples and {1} features\".format(n_samples, n_features))"
   ]
  },
  {
   "cell_type": "markdown",
   "metadata": {},
   "source": [
    "**该数据集有100个记录、5个特征（变量）**"
   ]
  },
  {
   "cell_type": "code",
   "execution_count": 6,
   "metadata": {},
   "outputs": [
    {
     "name": "stdout",
     "output_type": "stream",
     "text": [
      "[[ 0.  0.  1.  1.  1.]\n",
      " [ 1.  1.  0.  1.  0.]\n",
      " [ 1.  0.  1.  1.  0.]\n",
      " [ 0.  0.  1.  1.  1.]\n",
      " [ 0.  1.  0.  0.  1.]]\n"
     ]
    }
   ],
   "source": [
    "print(X[:5])"
   ]
  },
  {
   "cell_type": "code",
   "execution_count": 7,
   "metadata": {},
   "outputs": [],
   "source": [
    "# The names of the features, for your reference.\n",
    "features = [\"bread\", \"milk\", \"cheese\", \"apples\", \"bananas\"]"
   ]
  },
  {
   "cell_type": "markdown",
   "metadata": {},
   "source": [
    "**看一看怎么求“如果顾客购买了苹果，那么他也会购买香蕉”的支持度和置信度**"
   ]
  },
  {
   "cell_type": "code",
   "execution_count": 8,
   "metadata": {},
   "outputs": [
    {
     "name": "stdout",
     "output_type": "stream",
     "text": [
      "36 people bought Apples\n"
     ]
    }
   ],
   "source": [
    "# 首先计算有多少顾客买了苹果\n",
    "num_apple_purchases = 0\n",
    "for sample in X:\n",
    "    if sample[3] == 1:  # 判断是否买了苹果\n",
    "        num_apple_purchases += 1\n",
    "print(\"{0} people bought Apples\".format(num_apple_purchases))"
   ]
  },
  {
   "cell_type": "code",
   "execution_count": 9,
   "metadata": {},
   "outputs": [
    {
     "name": "stdout",
     "output_type": "stream",
     "text": [
      "21 cases of the rule being valid were discovered\n",
      "15 cases of the rule being invalid were discovered\n"
     ]
    }
   ],
   "source": [
    "# 有多少个即买了香蕉有买了苹果\n",
    "# 计算上诉规则的个数\n",
    "rule_valid = 0\n",
    "rule_invalid = 0\n",
    "for sample in X:\n",
    "    if sample[3] == 1:  # 买了苹果\n",
    "        if sample[4] == 1:\n",
    "            # 也买了香蕉\n",
    "            rule_valid += 1  # 符合规则+1\n",
    "        else:\n",
    "            # 买了苹果，但是没买香蕉\n",
    "            rule_invalid += 1\n",
    "print(\"{0} cases of the rule being valid were discovered\".format(rule_valid))\n",
    "print(\"{0} cases of the rule being invalid were discovered\".format(rule_invalid))"
   ]
  },
  {
   "cell_type": "code",
   "execution_count": 10,
   "metadata": {},
   "outputs": [
    {
     "name": "stdout",
     "output_type": "stream",
     "text": [
      "The support is 21 and the confidence is 0.583.\n",
      "As a percentage, that is 58.3%.\n"
     ]
    }
   ],
   "source": [
    "# 计算支持度和置信度\n",
    "support = rule_valid  # 支持度就是规则发现的次数\n",
    "confidence = rule_valid / num_apple_purchases  # 支持度除以买了苹果的记录数\n",
    "print(\"The support is {0} and the confidence is {1:.3f}.\".format(support, confidence))\n",
    "# Confidence can be thought of as a percentage using the following:\n",
    "print(\"As a percentage, that is {0:.1f}%.\".format(100 * confidence))"
   ]
  },
  {
   "cell_type": "code",
   "execution_count": 11,
   "metadata": {},
   "outputs": [],
   "source": [
    "from collections import defaultdict\n",
    "# Now compute for all possible rules\n",
    "valid_rules = defaultdict(int)\n",
    "invalid_rules = defaultdict(int)\n",
    "num_occurences = defaultdict(int)\n",
    "\n",
    "for sample in X:\n",
    "    for premise in range(n_features):\n",
    "        if sample[premise] == 0: continue\n",
    "        # Record that the premise was bought in another transaction\n",
    "        num_occurences[premise] += 1\n",
    "        for conclusion in range(n_features):\n",
    "            if premise == conclusion:  # 如果顾客买了苹果，然后又买了苹果，这样的规则是没有用的\n",
    "                continue\n",
    "            if sample[conclusion] == 1:\n",
    "                # This person also bought the conclusion item\n",
    "                valid_rules[(premise, conclusion)] += 1\n",
    "            else:\n",
    "                # This person bought the premise, but not the conclusion\n",
    "                invalid_rules[(premise, conclusion)] += 1\n",
    "support = valid_rules\n",
    "confidence = defaultdict(float)\n",
    "for premise, conclusion in valid_rules.keys():\n",
    "    confidence[(premise, conclusion)] = valid_rules[(premise, conclusion)] / num_occurences[premise]"
   ]
  },
  {
   "cell_type": "code",
   "execution_count": 12,
   "metadata": {},
   "outputs": [
    {
     "data": {
      "text/plain": [
       "defaultdict(int,\n",
       "            {(0, 1): 14,\n",
       "             (0, 2): 4,\n",
       "             (0, 3): 5,\n",
       "             (0, 4): 17,\n",
       "             (1, 0): 14,\n",
       "             (1, 2): 7,\n",
       "             (1, 3): 9,\n",
       "             (1, 4): 19,\n",
       "             (2, 0): 4,\n",
       "             (2, 1): 7,\n",
       "             (2, 3): 25,\n",
       "             (2, 4): 27,\n",
       "             (3, 0): 5,\n",
       "             (3, 1): 9,\n",
       "             (3, 2): 25,\n",
       "             (3, 4): 21,\n",
       "             (4, 0): 17,\n",
       "             (4, 1): 19,\n",
       "             (4, 2): 27,\n",
       "             (4, 3): 21})"
      ]
     },
     "execution_count": 12,
     "metadata": {},
     "output_type": "execute_result"
    }
   ],
   "source": [
    "support"
   ]
  },
  {
   "cell_type": "code",
   "execution_count": 13,
   "metadata": {},
   "outputs": [
    {
     "data": {
      "text/plain": [
       "defaultdict(float,\n",
       "            {(0, 1): 0.5185185185185185,\n",
       "             (0, 2): 0.14814814814814814,\n",
       "             (0, 3): 0.18518518518518517,\n",
       "             (0, 4): 0.6296296296296297,\n",
       "             (1, 0): 0.30434782608695654,\n",
       "             (1, 2): 0.15217391304347827,\n",
       "             (1, 3): 0.1956521739130435,\n",
       "             (1, 4): 0.41304347826086957,\n",
       "             (2, 0): 0.0975609756097561,\n",
       "             (2, 1): 0.17073170731707318,\n",
       "             (2, 3): 0.6097560975609756,\n",
       "             (2, 4): 0.6585365853658537,\n",
       "             (3, 0): 0.1388888888888889,\n",
       "             (3, 1): 0.25,\n",
       "             (3, 2): 0.6944444444444444,\n",
       "             (3, 4): 0.5833333333333334,\n",
       "             (4, 0): 0.288135593220339,\n",
       "             (4, 1): 0.3220338983050847,\n",
       "             (4, 2): 0.4576271186440678,\n",
       "             (4, 3): 0.3559322033898305})"
      ]
     },
     "execution_count": 13,
     "metadata": {},
     "output_type": "execute_result"
    }
   ],
   "source": [
    "confidence"
   ]
  },
  {
   "cell_type": "code",
   "execution_count": 14,
   "metadata": {},
   "outputs": [
    {
     "name": "stdout",
     "output_type": "stream",
     "text": [
      "Rule: If a person buys cheese they will also buy apples\n",
      " - Confidence: 0.610\n",
      " - Support: 25\n",
      "\n",
      "Rule: If a person buys cheese they will also buy bananas\n",
      " - Confidence: 0.659\n",
      " - Support: 27\n",
      "\n",
      "Rule: If a person buys apples they will also buy cheese\n",
      " - Confidence: 0.694\n",
      " - Support: 25\n",
      "\n",
      "Rule: If a person buys apples they will also buy bananas\n",
      " - Confidence: 0.583\n",
      " - Support: 21\n",
      "\n",
      "Rule: If a person buys bananas they will also buy cheese\n",
      " - Confidence: 0.458\n",
      " - Support: 27\n",
      "\n",
      "Rule: If a person buys bananas they will also buy apples\n",
      " - Confidence: 0.356\n",
      " - Support: 21\n",
      "\n",
      "Rule: If a person buys bread they will also buy milk\n",
      " - Confidence: 0.519\n",
      " - Support: 14\n",
      "\n",
      "Rule: If a person buys bread they will also buy apples\n",
      " - Confidence: 0.185\n",
      " - Support: 5\n",
      "\n",
      "Rule: If a person buys milk they will also buy bread\n",
      " - Confidence: 0.304\n",
      " - Support: 14\n",
      "\n",
      "Rule: If a person buys milk they will also buy apples\n",
      " - Confidence: 0.196\n",
      " - Support: 9\n",
      "\n",
      "Rule: If a person buys apples they will also buy bread\n",
      " - Confidence: 0.139\n",
      " - Support: 5\n",
      "\n",
      "Rule: If a person buys apples they will also buy milk\n",
      " - Confidence: 0.250\n",
      " - Support: 9\n",
      "\n",
      "Rule: If a person buys bread they will also buy cheese\n",
      " - Confidence: 0.148\n",
      " - Support: 4\n",
      "\n",
      "Rule: If a person buys cheese they will also buy bread\n",
      " - Confidence: 0.098\n",
      " - Support: 4\n",
      "\n",
      "Rule: If a person buys milk they will also buy bananas\n",
      " - Confidence: 0.413\n",
      " - Support: 19\n",
      "\n",
      "Rule: If a person buys bananas they will also buy milk\n",
      " - Confidence: 0.322\n",
      " - Support: 19\n",
      "\n",
      "Rule: If a person buys bread they will also buy bananas\n",
      " - Confidence: 0.630\n",
      " - Support: 17\n",
      "\n",
      "Rule: If a person buys bananas they will also buy bread\n",
      " - Confidence: 0.288\n",
      " - Support: 17\n",
      "\n",
      "Rule: If a person buys milk they will also buy cheese\n",
      " - Confidence: 0.152\n",
      " - Support: 7\n",
      "\n",
      "Rule: If a person buys cheese they will also buy milk\n",
      " - Confidence: 0.171\n",
      " - Support: 7\n",
      "\n"
     ]
    }
   ],
   "source": [
    "for premise, conclusion in confidence:\n",
    "    premise_name = features[premise]\n",
    "    conclusion_name = features[conclusion]\n",
    "    print(\"Rule: If a person buys {0} they will also buy {1}\".format(premise_name, conclusion_name))\n",
    "    print(\" - Confidence: {0:.3f}\".format(confidence[(premise, conclusion)]))\n",
    "    print(\" - Support: {0}\".format(support[(premise, conclusion)]))\n",
    "    print(\"\")"
   ]
  },
  {
   "cell_type": "code",
   "execution_count": 15,
   "metadata": {},
   "outputs": [],
   "source": [
    "def print_rule(premise, conclusion, support, confidence, features):\n",
    "    premise_name = features[premise]\n",
    "    conclusion_name = features[conclusion]\n",
    "    print(\"Rule: If a person buys {0} they will also buy {1}\".format(premise_name, conclusion_name))\n",
    "    print(\" - Confidence: {0:.3f}\".format(confidence[(premise, conclusion)]))\n",
    "    print(\" - Support: {0}\".format(support[(premise, conclusion)]))\n",
    "    print(\"\")"
   ]
  },
  {
   "cell_type": "code",
   "execution_count": 16,
   "metadata": {},
   "outputs": [
    {
     "name": "stdout",
     "output_type": "stream",
     "text": [
      "Rule: If a person buys milk they will also buy apples\n",
      " - Confidence: 0.196\n",
      " - Support: 9\n",
      "\n"
     ]
    }
   ],
   "source": [
    "premise = 1\n",
    "conclusion = 3\n",
    "print_rule(premise, conclusion, support, confidence, features)"
   ]
  },
  {
   "cell_type": "markdown",
   "metadata": {},
   "source": [
    "### 1.3.5 排序找出最佳规则"
   ]
  },
  {
   "cell_type": "code",
   "execution_count": 17,
   "metadata": {},
   "outputs": [
    {
     "name": "stdout",
     "output_type": "stream",
     "text": [
      "[((2, 3), 25),\n",
      " ((2, 4), 27),\n",
      " ((3, 2), 25),\n",
      " ((3, 4), 21),\n",
      " ((4, 2), 27),\n",
      " ((4, 3), 21),\n",
      " ((0, 1), 14),\n",
      " ((0, 3), 5),\n",
      " ((1, 0), 14),\n",
      " ((1, 3), 9),\n",
      " ((3, 0), 5),\n",
      " ((3, 1), 9),\n",
      " ((0, 2), 4),\n",
      " ((2, 0), 4),\n",
      " ((1, 4), 19),\n",
      " ((4, 1), 19),\n",
      " ((0, 4), 17),\n",
      " ((4, 0), 17),\n",
      " ((1, 2), 7),\n",
      " ((2, 1), 7)]\n"
     ]
    }
   ],
   "source": [
    "# 按照支持度进行排序\n",
    "from pprint import pprint # 为了打印美观\n",
    "pprint(list(support.items()))  # 返回包含所有字典元素的列表"
   ]
  },
  {
   "cell_type": "code",
   "execution_count": 18,
   "metadata": {},
   "outputs": [],
   "source": [
    "from operator import itemgetter   # 使用itemgetter类进行排序\n",
    "sorted_support = sorted(support.items(), key=itemgetter(1), reverse=True)"
   ]
  },
  {
   "cell_type": "code",
   "execution_count": 19,
   "metadata": {},
   "outputs": [
    {
     "name": "stdout",
     "output_type": "stream",
     "text": [
      "Rule #1\n",
      "Rule: If a person buys cheese they will also buy bananas\n",
      " - Confidence: 0.659\n",
      " - Support: 27\n",
      "\n",
      "Rule #2\n",
      "Rule: If a person buys bananas they will also buy cheese\n",
      " - Confidence: 0.458\n",
      " - Support: 27\n",
      "\n",
      "Rule #3\n",
      "Rule: If a person buys cheese they will also buy apples\n",
      " - Confidence: 0.610\n",
      " - Support: 25\n",
      "\n",
      "Rule #4\n",
      "Rule: If a person buys apples they will also buy cheese\n",
      " - Confidence: 0.694\n",
      " - Support: 25\n",
      "\n",
      "Rule #5\n",
      "Rule: If a person buys apples they will also buy bananas\n",
      " - Confidence: 0.583\n",
      " - Support: 21\n",
      "\n"
     ]
    }
   ],
   "source": [
    "for index in range(5):\n",
    "    print(\"Rule #{0}\".format(index + 1))\n",
    "    (premise, conclusion) = sorted_support[index][0]\n",
    "    print_rule(premise, conclusion, support, confidence, features)"
   ]
  },
  {
   "cell_type": "code",
   "execution_count": 20,
   "metadata": {},
   "outputs": [],
   "source": [
    "sorted_confidence = sorted(confidence.items(), key=itemgetter(1), reverse=True)"
   ]
  },
  {
   "cell_type": "code",
   "execution_count": 21,
   "metadata": {},
   "outputs": [
    {
     "name": "stdout",
     "output_type": "stream",
     "text": [
      "Rule #1\n",
      "Rule: If a person buys apples they will also buy cheese\n",
      " - Confidence: 0.694\n",
      " - Support: 25\n",
      "\n",
      "Rule #2\n",
      "Rule: If a person buys cheese they will also buy bananas\n",
      " - Confidence: 0.659\n",
      " - Support: 27\n",
      "\n",
      "Rule #3\n",
      "Rule: If a person buys bread they will also buy bananas\n",
      " - Confidence: 0.630\n",
      " - Support: 17\n",
      "\n",
      "Rule #4\n",
      "Rule: If a person buys cheese they will also buy apples\n",
      " - Confidence: 0.610\n",
      " - Support: 25\n",
      "\n",
      "Rule #5\n",
      "Rule: If a person buys apples they will also buy bananas\n",
      " - Confidence: 0.583\n",
      " - Support: 21\n",
      "\n"
     ]
    }
   ],
   "source": [
    "for index in range(5):\n",
    "    print(\"Rule #{0}\".format(index + 1))\n",
    "    (premise, conclusion) = sorted_confidence[index][0]\n",
    "    print_rule(premise, conclusion, support, confidence, features)"
   ]
  },
  {
   "cell_type": "code",
   "execution_count": null,
   "metadata": {},
   "outputs": [],
   "source": []
  }
 ],
 "metadata": {
  "kernelspec": {
   "display_name": "Python 3",
   "language": "python",
   "name": "python3"
  },
  "language_info": {
   "codemirror_mode": {
    "name": "ipython",
    "version": 3
   },
   "file_extension": ".py",
   "mimetype": "text/x-python",
   "name": "python",
   "nbconvert_exporter": "python",
   "pygments_lexer": "ipython3",
   "version": "3.6.1"
  }
 },
 "nbformat": 4,
 "nbformat_minor": 1
}
